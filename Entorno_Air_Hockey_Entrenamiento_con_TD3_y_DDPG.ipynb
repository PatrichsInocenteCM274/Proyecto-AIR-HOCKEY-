{
  "nbformat": 4,
  "nbformat_minor": 0,
  "metadata": {
    "colab": {
      "provenance": []
    },
    "kernelspec": {
      "name": "python3",
      "display_name": "Python 3"
    },
    "language_info": {
      "name": "python"
    }
  },
  "cells": [
    {
      "cell_type": "markdown",
      "source": [
        "#### **Clonamos el proyecto:**"
      ],
      "metadata": {
        "id": "2OhMVvDZwoyB"
      }
    },
    {
      "cell_type": "code",
      "execution_count": 1,
      "metadata": {
        "id": "DJdvLenVv93k",
        "colab": {
          "base_uri": "https://localhost:8080/"
        },
        "outputId": "708f582b-a4c7-4439-8899-821be65e4d7b"
      },
      "outputs": [
        {
          "output_type": "stream",
          "name": "stdout",
          "text": [
            "fatal: destination path 'Proyecto-AIR-HOCKEY-' already exists and is not an empty directory.\n",
            "/content/Proyecto-AIR-HOCKEY-\n",
            "Looking in indexes: https://pypi.org/simple, https://us-python.pkg.dev/colab-wheels/public/simple/\n",
            "Obtaining file:///content/Proyecto-AIR-HOCKEY-\n",
            "  Preparing metadata (setup.py) ... \u001b[?25l\u001b[?25hdone\n",
            "Requirement already satisfied: gym in /usr/local/lib/python3.8/dist-packages (from simple-air-hockey==0.0.1) (0.25.2)\n",
            "Requirement already satisfied: pybullet in /usr/local/lib/python3.8/dist-packages (from simple-air-hockey==0.0.1) (3.2.5)\n",
            "Requirement already satisfied: numpy in /usr/local/lib/python3.8/dist-packages (from simple-air-hockey==0.0.1) (1.21.6)\n",
            "Requirement already satisfied: matplotlib in /usr/local/lib/python3.8/dist-packages (from simple-air-hockey==0.0.1) (3.2.2)\n",
            "Requirement already satisfied: torch in /usr/local/lib/python3.8/dist-packages (from simple-air-hockey==0.0.1) (1.13.1+cu116)\n",
            "Requirement already satisfied: IPython in /usr/local/lib/python3.8/dist-packages (from simple-air-hockey==0.0.1) (7.9.0)\n",
            "Requirement already satisfied: opencv-python in /usr/local/lib/python3.8/dist-packages (from simple-air-hockey==0.0.1) (4.6.0.66)\n",
            "Requirement already satisfied: ffmpeg in /usr/local/lib/python3.8/dist-packages (from simple-air-hockey==0.0.1) (1.4)\n",
            "Requirement already satisfied: cloudpickle>=1.2.0 in /usr/local/lib/python3.8/dist-packages (from gym->simple-air-hockey==0.0.1) (2.2.1)\n",
            "Requirement already satisfied: gym-notices>=0.0.4 in /usr/local/lib/python3.8/dist-packages (from gym->simple-air-hockey==0.0.1) (0.0.8)\n",
            "Requirement already satisfied: importlib-metadata>=4.8.0 in /usr/local/lib/python3.8/dist-packages (from gym->simple-air-hockey==0.0.1) (6.0.0)\n",
            "Requirement already satisfied: prompt-toolkit<2.1.0,>=2.0.0 in /usr/local/lib/python3.8/dist-packages (from IPython->simple-air-hockey==0.0.1) (2.0.10)\n",
            "Requirement already satisfied: setuptools>=18.5 in /usr/local/lib/python3.8/dist-packages (from IPython->simple-air-hockey==0.0.1) (57.4.0)\n",
            "Requirement already satisfied: pickleshare in /usr/local/lib/python3.8/dist-packages (from IPython->simple-air-hockey==0.0.1) (0.7.5)\n",
            "Requirement already satisfied: backcall in /usr/local/lib/python3.8/dist-packages (from IPython->simple-air-hockey==0.0.1) (0.2.0)\n",
            "Requirement already satisfied: pexpect in /usr/local/lib/python3.8/dist-packages (from IPython->simple-air-hockey==0.0.1) (4.8.0)\n",
            "Requirement already satisfied: jedi>=0.10 in /usr/local/lib/python3.8/dist-packages (from IPython->simple-air-hockey==0.0.1) (0.18.2)\n",
            "Requirement already satisfied: decorator in /usr/local/lib/python3.8/dist-packages (from IPython->simple-air-hockey==0.0.1) (4.4.2)\n",
            "Requirement already satisfied: traitlets>=4.2 in /usr/local/lib/python3.8/dist-packages (from IPython->simple-air-hockey==0.0.1) (5.7.1)\n",
            "Requirement already satisfied: pygments in /usr/local/lib/python3.8/dist-packages (from IPython->simple-air-hockey==0.0.1) (2.6.1)\n",
            "Requirement already satisfied: cycler>=0.10 in /usr/local/lib/python3.8/dist-packages (from matplotlib->simple-air-hockey==0.0.1) (0.11.0)\n",
            "Requirement already satisfied: pyparsing!=2.0.4,!=2.1.2,!=2.1.6,>=2.0.1 in /usr/local/lib/python3.8/dist-packages (from matplotlib->simple-air-hockey==0.0.1) (3.0.9)\n",
            "Requirement already satisfied: kiwisolver>=1.0.1 in /usr/local/lib/python3.8/dist-packages (from matplotlib->simple-air-hockey==0.0.1) (1.4.4)\n",
            "Requirement already satisfied: python-dateutil>=2.1 in /usr/local/lib/python3.8/dist-packages (from matplotlib->simple-air-hockey==0.0.1) (2.8.2)\n",
            "Requirement already satisfied: typing-extensions in /usr/local/lib/python3.8/dist-packages (from torch->simple-air-hockey==0.0.1) (4.4.0)\n",
            "Requirement already satisfied: zipp>=0.5 in /usr/local/lib/python3.8/dist-packages (from importlib-metadata>=4.8.0->gym->simple-air-hockey==0.0.1) (3.12.1)\n",
            "Requirement already satisfied: parso<0.9.0,>=0.8.0 in /usr/local/lib/python3.8/dist-packages (from jedi>=0.10->IPython->simple-air-hockey==0.0.1) (0.8.3)\n",
            "Requirement already satisfied: wcwidth in /usr/local/lib/python3.8/dist-packages (from prompt-toolkit<2.1.0,>=2.0.0->IPython->simple-air-hockey==0.0.1) (0.2.6)\n",
            "Requirement already satisfied: six>=1.9.0 in /usr/local/lib/python3.8/dist-packages (from prompt-toolkit<2.1.0,>=2.0.0->IPython->simple-air-hockey==0.0.1) (1.15.0)\n",
            "Requirement already satisfied: ptyprocess>=0.5 in /usr/local/lib/python3.8/dist-packages (from pexpect->IPython->simple-air-hockey==0.0.1) (0.7.0)\n",
            "Installing collected packages: simple-air-hockey\n",
            "  Attempting uninstall: simple-air-hockey\n",
            "    Found existing installation: simple-air-hockey 0.0.1\n",
            "    Can't uninstall 'simple-air-hockey'. No files were found to uninstall.\n",
            "  Running setup.py develop for simple-air-hockey\n",
            "Successfully installed simple-air-hockey-0.0.1\n"
          ]
        }
      ],
      "source": [
        "!git clone https://github.com/PatrichsInocenteCM274/Proyecto-AIR-HOCKEY-.git \n",
        "%cd Proyecto-AIR-HOCKEY-/\n",
        "!pip install -e ."
      ]
    },
    {
      "cell_type": "markdown",
      "source": [
        "#### **1. Entrenamiento de cada Scara desde cero (Advertencia: Se borrará el modelo entrenado anteriormente):**\n",
        "\n",
        "Para entrenar la scara derecha con TD3, escribimos:"
      ],
      "metadata": {
        "id": "_dtB3Tx9wT3_"
      }
    },
    {
      "cell_type": "code",
      "source": [
        "!python3 td3_.py --scara=right  "
      ],
      "metadata": {
        "id": "ET3OWN8dwQCs"
      },
      "execution_count": null,
      "outputs": []
    },
    {
      "cell_type": "markdown",
      "source": [
        "Para entrenar la scara izquierda con TD3, escribimos:"
      ],
      "metadata": {
        "id": "avMRagxZwUZc"
      }
    },
    {
      "cell_type": "code",
      "source": [
        "!python3 td3_.py --scara=left  "
      ],
      "metadata": {
        "id": "9rxF_cj3wcjK"
      },
      "execution_count": null,
      "outputs": []
    },
    {
      "cell_type": "markdown",
      "source": [
        "Para entrenar solo scara izquierda con modelo DDPG desde cero:"
      ],
      "metadata": {
        "id": "O3gVpRLMwjjz"
      }
    },
    {
      "cell_type": "code",
      "source": [
        "!python3 ddpg_train_scara_left.py"
      ],
      "metadata": {
        "id": "QAMkq3MYwjGe"
      },
      "execution_count": null,
      "outputs": []
    },
    {
      "cell_type": "markdown",
      "source": [
        "#### **2. Para capturar grabaciones del entrenamiento de cada robot scara (los videos se almacenarán en la carpeta del proyecto)**\n",
        "\n",
        "En el caso de querer obtener la grabación de scara derecha:"
      ],
      "metadata": {
        "id": "kMvbXGvBw21N"
      }
    },
    {
      "cell_type": "code",
      "source": [
        "!pip install -q mediapy"
      ],
      "metadata": {
        "id": "t8hpD5Sceq7C"
      },
      "execution_count": 2,
      "outputs": []
    },
    {
      "cell_type": "code",
      "source": [
        "import numpy as np\n",
        "import mediapy as media\n",
        "import warnings\n",
        "warnings.filterwarnings(\"ignore\")\n",
        "\n",
        "def muestra_video(scara):\n",
        "  print(\"Renderizando Videos ....\")\n",
        "  videos = []\n",
        "  for indice in range(7):\n",
        "    video = media.read_video(\"video_inferencia_\"+scara+str(indice)+\".mp4\")\n",
        "    resize_video = media.resize_video(video, np.array(video.shape[1:3]) // 2)\n",
        "    videos.append(np.concatenate([resize_video, resize_video[::-1]], axis=0))\n",
        "  return media.show_videos(videos,columns=3, fps=60)"
      ],
      "metadata": {
        "id": "aWGS3wtdfA52"
      },
      "execution_count": 3,
      "outputs": []
    },
    {
      "cell_type": "code",
      "source": [
        "!python3 td3_inferencia.py --scara=right\n",
        "muestra_video(\"right\")"
      ],
      "metadata": {
        "id": "7A5VXlnjw2Ox"
      },
      "execution_count": null,
      "outputs": []
    },
    {
      "cell_type": "markdown",
      "source": [
        "\n",
        "\n",
        "En el caso de querer obtener la grabación de scara izquierda:"
      ],
      "metadata": {
        "id": "5HLV1AzXxE_a"
      }
    },
    {
      "cell_type": "code",
      "source": [
        "!python3 td3_inferencia.py --scara=left  \n",
        "muestra_video(\"left\")"
      ],
      "metadata": {
        "id": "0-JtOXAkxH4X"
      },
      "execution_count": 5,
      "outputs": []
    },
    {
      "cell_type": "markdown",
      "source": [
        "\n",
        "#### **3. Finalmente para descargar proyecto ejecutar:**"
      ],
      "metadata": {
        "id": "OZDpi47ixLCA"
      }
    },
    {
      "cell_type": "code",
      "source": [
        "from google.colab import files\n",
        "!zip -r Proyecto-AIR-HOCKEY-.zip ./ -x \".git/*\" \"simple_air_hockey.egg-info/*\" \"**__pycache__/*\"\n",
        "files.download('Proyecto-AIR-HOCKEY-.zip')"
      ],
      "metadata": {
        "id": "2dN5lYufxKea"
      },
      "execution_count": null,
      "outputs": []
    }
  ]
}