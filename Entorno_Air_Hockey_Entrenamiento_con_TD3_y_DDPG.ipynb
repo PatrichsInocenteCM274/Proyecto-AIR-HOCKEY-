{
  "nbformat": 4,
  "nbformat_minor": 0,
  "metadata": {
    "colab": {
      "provenance": []
    },
    "kernelspec": {
      "name": "python3",
      "display_name": "Python 3"
    },
    "language_info": {
      "name": "python"
    }
  },
  "cells": [
    {
      "cell_type": "markdown",
      "source": [
        "#### **Clonamos el proyecto:**"
      ],
      "metadata": {
        "id": "2OhMVvDZwoyB"
      }
    },
    {
      "cell_type": "code",
      "execution_count": null,
      "metadata": {
        "id": "DJdvLenVv93k"
      },
      "outputs": [],
      "source": [
        "!git clone https://github.com/PatrichsInocenteCM274/Proyecto-AIR-HOCKEY-.git \n",
        "%cd Proyecto-AIR-HOCKEY-/\n",
        "!pip install -e ."
      ]
    },
    {
      "cell_type": "markdown",
      "source": [
        "#### **1. Entrenamiento de cada Scara desde cero (Se borrará el modelo entrenado anteriormente):**\n",
        "\n",
        "Para entrenar la scara derecha con TD3, escribimos:"
      ],
      "metadata": {
        "id": "_dtB3Tx9wT3_"
      }
    },
    {
      "cell_type": "code",
      "source": [
        "!python3 td3_.py --scara=right  "
      ],
      "metadata": {
        "id": "ET3OWN8dwQCs"
      },
      "execution_count": null,
      "outputs": []
    },
    {
      "cell_type": "markdown",
      "source": [
        "Para entrenar la scara izquierda con TD3, escribimos:"
      ],
      "metadata": {
        "id": "avMRagxZwUZc"
      }
    },
    {
      "cell_type": "code",
      "source": [
        "!python3 td3_.py --scara=left  "
      ],
      "metadata": {
        "id": "9rxF_cj3wcjK"
      },
      "execution_count": null,
      "outputs": []
    },
    {
      "cell_type": "markdown",
      "source": [
        "Para entrenar solo scara izquierda con modelo DDPG desde cero:"
      ],
      "metadata": {
        "id": "O3gVpRLMwjjz"
      }
    },
    {
      "cell_type": "code",
      "source": [
        "!python3 ddpg_train_scara_left.py"
      ],
      "metadata": {
        "id": "QAMkq3MYwjGe"
      },
      "execution_count": null,
      "outputs": []
    },
    {
      "cell_type": "markdown",
      "source": [
        "#### **2. Para capturar grabaciones del entrenamiento de cada robot scara (los videos se almacenarán en la carpeta del proyecto), escribir:**\n",
        "\n",
        "En el caso de querer obtener la grabación de scara derecha:"
      ],
      "metadata": {
        "id": "kMvbXGvBw21N"
      }
    },
    {
      "cell_type": "code",
      "source": [
        "!python3 td3_inferencia.py --scara=right "
      ],
      "metadata": {
        "id": "7A5VXlnjw2Ox"
      },
      "execution_count": null,
      "outputs": []
    },
    {
      "cell_type": "markdown",
      "source": [
        "\n",
        "\n",
        "En el caso de querer obtener la grabación de scara izquierda:"
      ],
      "metadata": {
        "id": "5HLV1AzXxE_a"
      }
    },
    {
      "cell_type": "code",
      "source": [
        "!python3 td3_inferencia.py --scara=left  "
      ],
      "metadata": {
        "id": "0-JtOXAkxH4X"
      },
      "execution_count": null,
      "outputs": []
    },
    {
      "cell_type": "markdown",
      "source": [
        "\n",
        "#### **3. Finalmente para descargar proyecto entrenado a nuestra maquina local, escribir:**"
      ],
      "metadata": {
        "id": "OZDpi47ixLCA"
      }
    },
    {
      "cell_type": "code",
      "source": [
        "from google.colab import files\n",
        "!zip -r Proyecto-AIR-HOCKEY-.zip ./ -x \".git/*\" \"simple_air_hockey.egg-info/*\" \"**__pycache__/*\"\n",
        "files.download('Proyecto-AIR-HOCKEY-.zip')"
      ],
      "metadata": {
        "id": "2dN5lYufxKea"
      },
      "execution_count": null,
      "outputs": []
    }
  ]
}